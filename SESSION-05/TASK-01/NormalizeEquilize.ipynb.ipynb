{
 "cells": [
  {
   "cell_type": "code",
   "execution_count": null,
   "metadata": {},
   "outputs": [],
   "source": [
    "import cv2\n",
    "import numpy as np\n",
    "import matplotlib.pyplot as plt\n",
    "\n",
    "def normalize_image(image):\n",
    "    # Convert the image to float32 (assuming it has uint8 values in the range [0, 255])\n",
    "    image = image.astype(np.float32)\n",
    "    \n",
    "    # Normalize the pixel values to the range [0, 1]\n",
    "    image_normalized = image / 255.0\n",
    "    \n",
    "    return image_normalized\n",
    "\n",
    "def histogram_equalization(image):\n",
    "    # Convert the image to grayscale if it is not already\n",
    "    if len(image.shape) == 3:\n",
    "        image = cv2.cvtColor(image, cv2.COLOR_BGR2GRAY)\n",
    "    \n",
    "    # Apply histogram equalization\n",
    "    equalized_image = cv2.equalizeHist(image)\n",
    "    \n",
    "    return equalized_image\n",
    "\n",
    "if __name__ == \"__main__\":\n",
    "    # Read an example image (replace \"example.jpg\" with the path to your image)\n",
    "    image = cv2.imread(\"ex5_do_nawab-100x100.png\")\n",
    "\n",
    "    # Perform normalization\n",
    "    normalized_image = normalize_image(image)\n",
    "\n",
    "    # Perform histogram equalization\n",
    "    equalized_image = histogram_equalization(image)\n",
    "\n",
    "    # Display the original, normalized, and equalized images using matplotlib\n",
    "    plt.figure(figsize=(12, 6))\n",
    "\n",
    "    plt.subplot(1, 3, 1)\n",
    "    plt.imshow(cv2.cvtColor(image, cv2.COLOR_BGR2RGB))\n",
    "    plt.title(\"Original Image\")\n",
    "    plt.axis(\"off\")\n",
    "\n",
    "    plt.subplot(1, 3, 2)\n",
    "    plt.imshow(normalized_image, cmap=\"gray\")\n",
    "    plt.title(\"Normalized Image\")\n",
    "    plt.axis(\"off\")\n",
    "\n",
    "    plt.subplot(1, 3, 3)\n",
    "    plt.imshow(equalized_image, cmap=\"gray\")\n",
    "    plt.title(\"Equalized Image\")\n",
    "    plt.axis(\"off\")\n",
    "\n",
    "    plt.show()\n"
   ]
  },
  {
   "cell_type": "code",
   "execution_count": null,
   "metadata": {},
   "outputs": [],
   "source": []
  }
 ],
 "metadata": {
  "kernelspec": {
   "display_name": "Python 3",
   "language": "python",
   "name": "python3"
  },
  "language_info": {
   "codemirror_mode": {
    "name": "ipython",
    "version": 3
   },
   "file_extension": ".py",
   "mimetype": "text/x-python",
   "name": "python",
   "nbconvert_exporter": "python",
   "pygments_lexer": "ipython3",
   "version": "3.11.3"
  },
  "orig_nbformat": 4
 },
 "nbformat": 4,
 "nbformat_minor": 2
}
