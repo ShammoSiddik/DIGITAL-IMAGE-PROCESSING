{
 "cells": [
  {
   "cell_type": "code",
   "execution_count": 8,
   "metadata": {},
   "outputs": [],
   "source": [
    "import cv2\n",
    "import numpy as np\n",
    "def display_neighbors(image):\n",
    "    four_point_kernel = np.array([[0, 1, 0], [1, 0, 1], [0, 1, 0]])\n",
    "    eight_point_kernel = np.ones((3, 3), dtype=np.uint8)\n",
    "    diagonal_kernel = np.array([[1, 0, 1], [0, 0, 0], [1, 0, 1]])\n",
    "    neighbors_4 = cv2.filter2D(image, -1, four_point_kernel)\n",
    "    neighbors_8 = cv2.filter2D(image, -1, eight_point_kernel)\n",
    "    neighbors_diag = cv2.filter2D(image, -1, diagonal_kernel)\n",
    "    neighbors_combined = np.hstack((neighbors_4, neighbors_8, neighbors_diag))\n",
    "    \n",
    "    cv2.imshow(\"Original Image\", image)\n",
    "    cv2.imshow(\"Filtered Neighbors\", neighbors_combined)\n",
    "    cv2.waitKey(0)\n",
    "    cv2.destroyAllWindows()\n",
    "    \n",
    "    #img = cv2.imread('architecture1.jpg')\n",
    "img = cv2.imread('architecture1.jpg', cv2.IMREAD_GRAYSCALE)\n",
    "if img is not None:\n",
    "    display_neighbors(img)\n",
    "       "
   ]
  },
  {
   "cell_type": "code",
   "execution_count": null,
   "metadata": {},
   "outputs": [],
   "source": []
  }
 ],
 "metadata": {
  "kernelspec": {
   "display_name": "Python 3",
   "language": "python",
   "name": "python3"
  },
  "language_info": {
   "codemirror_mode": {
    "name": "ipython",
    "version": 3
   },
   "file_extension": ".py",
   "mimetype": "text/x-python",
   "name": "python",
   "nbconvert_exporter": "python",
   "pygments_lexer": "ipython3",
   "version": "3.11.3"
  },
  "orig_nbformat": 4
 },
 "nbformat": 4,
 "nbformat_minor": 2
}
