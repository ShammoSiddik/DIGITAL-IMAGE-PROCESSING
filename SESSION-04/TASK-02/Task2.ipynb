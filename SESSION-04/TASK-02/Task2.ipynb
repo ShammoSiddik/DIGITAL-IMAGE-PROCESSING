{
 "cells": [
  {
   "cell_type": "code",
   "execution_count": null,
   "metadata": {},
   "outputs": [],
   "source": [
    "import cv2\n",
    "import numpy as np\n",
    "\n",
    "def scale_and_rotate_image(img_path, scaling_factors, rotation_angles):\n",
    "    img = cv2.imread(img_path)\n",
    "    height, width = img.shape[:2]\n",
    "    scaled_images = []\n",
    "    for scale in scaling_factors:\n",
    "        new_width = int(width * scale)\n",
    "        new_height = int(height * scale)\n",
    "        scaled_image = cv2.resize(img, (new_width, new_height))\n",
    "        scaled_images.append(scaled_image)\n",
    "        rotated_images = []\n",
    "        for angle in rotation_angles:\n",
    "            for scaled_image in scaled_images:\n",
    "                center = (scaled_image.shape[1] // 2, scaled_image.shape[0] // 2)\n",
    "                rotation_matrix = cv2.getRotationMatrix2D(center, angle, 1.0)\n",
    "                rotated_image = cv2.warpAffine(scaled_image, rotation_matrix, (scaled_image.shape[1], scaled_image.shape[0]))\n",
    "                rotated_images.append(rotated_image)\n",
    "        return rotated_images\n",
    "        \n",
    "img_path = 'architecture1.jpg'\n",
    "scaling_factors = [0.5, 2, 3]\n",
    "rotation_angles = [45, 60]\n",
    "result_images = scale_and_rotate_image(img_path, scaling_factors, rotation_angles)\n",
    "        \n",
    "cv2.imshow('Original image', cv2.imread(img_path))\n",
    "for i, result_image in enumerate(result_images):\n",
    "    cv2.imshow(f'Result {i+1}', result_image)\n",
    "    \n",
    "cv2.waitKey(0)\n",
    "cv2.destroyAllWindows()\n",
    "    "
   ]
  },
  {
   "cell_type": "code",
   "execution_count": null,
   "metadata": {},
   "outputs": [],
   "source": []
  }
 ],
 "metadata": {
  "kernelspec": {
   "display_name": "Python 3",
   "language": "python",
   "name": "python3"
  },
  "language_info": {
   "codemirror_mode": {
    "name": "ipython",
    "version": 3
   },
   "file_extension": ".py",
   "mimetype": "text/x-python",
   "name": "python",
   "nbconvert_exporter": "python",
   "pygments_lexer": "ipython3",
   "version": "3.11.3"
  },
  "orig_nbformat": 4
 },
 "nbformat": 4,
 "nbformat_minor": 2
}
