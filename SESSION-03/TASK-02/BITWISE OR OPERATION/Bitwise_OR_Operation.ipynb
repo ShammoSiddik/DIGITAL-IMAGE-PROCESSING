{
 "cells": [
  {
   "cell_type": "code",
   "execution_count": null,
   "metadata": {},
   "outputs": [],
   "source": [
    "import cv2\n",
    "import numpy as np\n",
    "\n",
    "img1 = cv2.imread('input7.png')\n",
    "img2 = cv2.imread('input8.png')\n",
    "\n",
    "dest_or = cv2.bitwise_or(img2, img1, mask = None)\n",
    "cv2.imshow('Bitwise OR', dest_or)\n",
    "if cv2.waitKey(0) & 0xff == 27:\n",
    "    cv2.destroyAllWindows()"
   ]
  }
 ],
 "metadata": {
  "language_info": {
   "name": "python"
  },
  "orig_nbformat": 4
 },
 "nbformat": 4,
 "nbformat_minor": 2
}
