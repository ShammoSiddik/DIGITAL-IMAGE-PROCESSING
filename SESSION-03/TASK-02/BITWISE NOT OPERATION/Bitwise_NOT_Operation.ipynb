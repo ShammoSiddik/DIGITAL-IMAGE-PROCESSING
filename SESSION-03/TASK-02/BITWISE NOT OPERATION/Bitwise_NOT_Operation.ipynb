{
 "cells": [
  {
   "cell_type": "code",
   "execution_count": 1,
   "metadata": {},
   "outputs": [],
   "source": [
    "import cv2\n",
    "import numpy as np\n",
    "img1 = cv2.imread('input11.png')\n",
    "img2 = cv2.imread('input12.png')\n",
    "dest_not1 = cv2.bitwise_not(img1, mask = None)\n",
    "dest_not2 = cv2.bitwise_not(img2, mask = None)\n",
    "cv2.imshow('Bitwise NOT on image 1', dest_not1) \n",
    "cv2.imshow('Bitwise NOT on image 2', dest_not2)\n",
    "if cv2.waitKey(0) & 0xff == 27:\n",
    "    cv2.destroyAllWindows()"
   ]
  },
  {
   "cell_type": "code",
   "execution_count": null,
   "metadata": {},
   "outputs": [],
   "source": []
  }
 ],
 "metadata": {
  "kernelspec": {
   "display_name": "Python 3",
   "language": "python",
   "name": "python3"
  },
  "language_info": {
   "codemirror_mode": {
    "name": "ipython",
    "version": 3
   },
   "file_extension": ".py",
   "mimetype": "text/x-python",
   "name": "python",
   "nbconvert_exporter": "python",
   "pygments_lexer": "ipython3",
   "version": "3.11.3"
  },
  "orig_nbformat": 4
 },
 "nbformat": 4,
 "nbformat_minor": 2
}
