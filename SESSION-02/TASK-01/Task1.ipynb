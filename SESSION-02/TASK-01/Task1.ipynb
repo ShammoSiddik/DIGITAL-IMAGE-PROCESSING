{
 "cells": [
  {
   "cell_type": "code",
   "execution_count": null,
   "metadata": {},
   "outputs": [],
   "source": [
    "import cv2\n",
    "binary_img = cv2.imread('architecture1.jpg')\n",
    "gray = cv2.cvtColor(binary_img, cv2.COLOR_BGR2GRAY)\n",
    "ret,thresh = cv2.threshold(gray,70,255,0)\n",
    "cv2.imshow(\"Binary Image\", thresh)\n",
    "cv2.waitKey(0)\n",
    "cv2.destroyAllWindows()"
   ]
  }
 ],
 "metadata": {
  "kernelspec": {
   "display_name": "Python 3",
   "language": "python",
   "name": "python3"
  },
  "language_info": {
   "codemirror_mode": {
    "name": "ipython",
    "version": 3
   },
   "file_extension": ".py",
   "mimetype": "text/x-python",
   "name": "python",
   "nbconvert_exporter": "python",
   "pygments_lexer": "ipython3",
   "version": "3.11.3"
  },
  "orig_nbformat": 4
 },
 "nbformat": 4,
 "nbformat_minor": 2
}
